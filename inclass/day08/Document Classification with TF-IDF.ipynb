{
 "cells": [
  {
   "cell_type": "markdown",
   "metadata": {},
   "source": [
    "## Exploring Tf-IDF\n",
    "\n",
    "In this notebook you will be exploring the computation of the Tf-IDF feature using a very popular dataset called 20 newsgroups."
   ]
  },
  {
   "cell_type": "code",
   "execution_count": 13,
   "metadata": {
    "collapsed": false
   },
   "outputs": [
    {
     "name": "stdout",
     "output_type": "stream",
     "text": [
      "the 20 newsgroups by date dataset\n",
      "Number of posts 11314\n"
     ]
    },
    {
     "data": {
      "image/png": "[encoded data removed]",
      "text/plain": [
       "<matplotlib.figure.Figure at 0x7ff3c12bbb90>"
      ]
     },
     "metadata": {},
     "output_type": "display_data"
    },
    {
     "name": "stdout",
     "output_type": "stream",
     "text": [
      "First post!\n",
      "I was wondering if anyone out there could enlighten me on this car I saw\n",
      "the other day. It was a 2-door sports car, looked to be from the late 60s/\n",
      "early 70s. It was called a Bricklin. The doors were really small. In addition,\n",
      "the front bumper was separate from the rest of the body. This is \n",
      "all I know. If anyone can tellme a model name, engine specs, years\n",
      "of production, where this car is made, history, or whatever info you\n",
      "have on this funky looking car, please e-mail.\n"
     ]
    }
   ],
   "source": [
    "%matplotlib inline\n",
    "from sklearn.datasets import fetch_20newsgroups\n",
    "\n",
    "data = fetch_20newsgroups(subset='train', remove=('headers', 'footers', 'quotes'))\n",
    "\n",
    "post_texts = data.data\n",
    "news_group_ids = data.target\n",
    "\n",
    "print data.description\n",
    "\n",
    "print \"Number of posts\", len(data.data)\n",
    "import matplotlib.pyplot as plt\n",
    "plt.hist(data.target, bins=20)\n",
    "plt.xlabel('Newsgroup Id')\n",
    "plt.ylabel('Number of Posts')\n",
    "plt.show()\n",
    "\n",
    "print \"First post!\"\n",
    "print data.data[0]"
   ]
  },
  {
   "cell_type": "markdown",
   "metadata": {},
   "source": [
    "Next, you will be writing a function to compute the term frequency part of [Tf-IDF](https://en.wikipedia.org/wiki/Tf%E2%80%93idf).  It's up to you how fancy to make this function.  In my simple version, I used split after first removing leading or trailing punctuation (I used the `strip` function) and also converting the words to lower case."
   ]
  },
  {
   "cell_type": "code",
   "execution_count": 14,
   "metadata": {
    "collapsed": false
   },
   "outputs": [
    {
     "data": {
      "text/plain": [
       "{u'a': 3,\n",
       " u'addition': 1,\n",
       " u'all': 1,\n",
       " u'anyone': 2,\n",
       " u'be': 1,\n",
       " u'body': 1,\n",
       " u'bricklin': 1,\n",
       " u'bumper': 1,\n",
       " u'called': 1,\n",
       " u'can': 1,\n",
       " u'car': 4,\n",
       " u'could': 1,\n",
       " u'day': 1,\n",
       " u'doors': 1,\n",
       " u'early': 1,\n",
       " u'engine': 1,\n",
       " u'enlighten': 1,\n",
       " u'from': 2,\n",
       " u'front': 1,\n",
       " u'funky': 1,\n",
       " u'have': 1,\n",
       " u'history': 1,\n",
       " u'i': 3,\n",
       " u'if': 2,\n",
       " u'in': 1,\n",
       " u'info': 1,\n",
       " u'is': 2,\n",
       " u'it': 2,\n",
       " u'know': 1,\n",
       " u'late': 1,\n",
       " u'looked': 1,\n",
       " u'looking': 1,\n",
       " u'made': 1,\n",
       " u'me': 1,\n",
       " u'model': 1,\n",
       " u'name': 1,\n",
       " u'of': 2,\n",
       " u'on': 2,\n",
       " u'or': 1,\n",
       " u'other': 1,\n",
       " u'out': 1,\n",
       " u'please': 1,\n",
       " u'production': 1,\n",
       " u'really': 1,\n",
       " u'rest': 1,\n",
       " u'saw': 1,\n",
       " u'separate': 1,\n",
       " u'small': 1,\n",
       " u'specs': 1,\n",
       " u'sports': 1,\n",
       " u'tellme': 1,\n",
       " u'the': 6,\n",
       " u'there': 1,\n",
       " u'this': 4,\n",
       " u'to': 1,\n",
       " u'was': 4,\n",
       " u'were': 1,\n",
       " u'whatever': 1,\n",
       " u'where': 1,\n",
       " u'wondering': 1,\n",
       " u'years': 1,\n",
       " u'you': 1}"
      ]
     },
     "execution_count": 14,
     "metadata": {},
     "output_type": "execute_result"
    }
   ],
   "source": [
    "import string\n",
    "\n",
    "def tf(text):\n",
    "    \"\"\" Returns a dictionary where keys are words that occur in text\n",
    "        and the value is the number of times that each word occurs. \"\"\"\n",
    "    d = {}\n",
    "    words = text.split()\n",
    "    for w in words:\n",
    "        modified_word = w.lower().strip('.,;!?\"()')\n",
    "        if not modified_word.strip(string.ascii_letters):\n",
    "            d[modified_word] = d.get(modified_word,0) + 1\n",
    "    return d\n",
    "\n",
    "tf(data.data[0])"
   ]
  },
  {
   "cell_type": "markdown",
   "metadata": {},
   "source": [
    "Next, you will be writing a function to compute the inverse document frequency part of [Tf-IDF](https://en.wikipedia.org/wiki/Tf%E2%80%93idf)."
   ]
  },
  {
   "cell_type": "code",
   "execution_count": 15,
   "metadata": {
    "collapsed": false
   },
   "outputs": [
    {
     "name": "stdout",
     "output_type": "stream",
     "text": [
      "Lowest IDF (most common)\n",
      "(u'the', 0.1783344654369077)\n",
      "(u'to', 0.2951935671812279)\n",
      "(u'a', 0.3093035704974311)\n",
      "(u'and', 0.37938084476550754)\n",
      "(u'of', 0.38963734493269664)\n",
      "(u'i', 0.4496015428308278)\n",
      "(u'in', 0.4708878807844732)\n",
      "(u'is', 0.4824190783836629)\n",
      "(u'that', 0.560876083276634)\n",
      "(u'it', 0.5843807692394498)\n",
      "\n",
      "Highest IDF (least common)\n",
      "(u'jawbone', 9.333796175903101)\n",
      "(u'codings', 9.333796175903101)\n",
      "(u'anime', 9.333796175903101)\n",
      "(u'tzeng', 9.333796175903101)\n",
      "(u'corelations', 9.333796175903101)\n",
      "(u'echte', 9.333796175903101)\n",
      "(u'geysers', 9.333796175903101)\n",
      "(u'crete', 9.333796175903101)\n",
      "(u'rlequant', 9.333796175903101)\n",
      "(u'moguls', 9.333796175903101)\n"
     ]
    }
   ],
   "source": [
    "from math import log\n",
    "import operator\n",
    "\n",
    "def calc_idf(data):\n",
    "    \"\"\" Returns a dictionary where the keys are words and the values are inverse\n",
    "        document frequencies.  For this function you should use the formula\n",
    "        idf(w, data) = log(N / |text in data that contain the word w|) \"\"\"\n",
    "    document_count = {}\n",
    "    for post in data:\n",
    "        d = tf(post)\n",
    "        for k in d:\n",
    "            document_count[k] = document_count.get(k, 0) + 1\n",
    "    \n",
    "    idf = {}\n",
    "    for key in document_count:\n",
    "        idf[key] = log(len(data)/float(document_count[key]))\n",
    "    return idf\n",
    "\n",
    "idf = calc_idf(data.data)\n",
    "sorted_idf = sorted(idf.items(), key=operator.itemgetter(1))\n",
    "\n",
    "print \"Lowest IDF (most common)\"\n",
    "for d in sorted_idf[0:10]:\n",
    "    print d\n",
    "\n",
    "print \"\"\n",
    "print \"Highest IDF (least common)\"\n",
    "rev_sorted_idf = sorted(idf.items(), key=operator.itemgetter(1))\n",
    "for d in reversed(rev_sorted_idf[-10:]):\n",
    "    print d"
   ]
  },
  {
   "cell_type": "markdown",
   "metadata": {
    "collapsed": true
   },
   "source": [
    "### Tf-IDF and Document Classification\n",
    "\n",
    "Next, you will be using these functions to create a model to classify the newsgroup documents.  Here is an outline of the basic steps you will need to take to do this.\n",
    "\n",
    "1.  Create a tfidf function that combines your tf and idf function to process a string and returns the TF-IDF features for that string expressed as a Python dictionary.\n",
    "2.  Create a function that takes a list of strings (a dataset) and returns a matrix consisting of the TF-IDF features for each string expressed as a vector.  This will require you to think about how to map a specific word to a specific element of your vector.  You will have to think about whether to store your data as a sparse or dense matrix.\n",
    "3.  Use your vectorizer on the news group data.  Then use something like cross_val_score to estimate the performance of your model.  Start with a subset of the data so you get a sense for the training time.  For your classifier, you can try different options.  Some good ones to look at would be Support Vector Classifiers, Logistic Regression, and RandomForests."
   ]
  },
  {
   "cell_type": "code",
   "execution_count": 16,
   "metadata": {
    "collapsed": true
   },
   "outputs": [],
   "source": [
    "def calc_tf_idf(idf, tfs, data):\n",
    "    idf_data = idf(data)\n",
    "    tf_data = [tf(text) for text in data]\n",
    "    tf_idf_data = []\n",
    "    for post in tf_data:\n",
    "        tf_idf_data.append({})\n",
    "        for word in post:\n",
    "            tf_idf_data[-1][word] = post[word]+idf_data[word]/2.0\n",
    "    return tf_idf_data"
   ]
  },
  {
   "cell_type": "code",
   "execution_count": 19,
   "metadata": {
    "collapsed": false
   },
   "outputs": [],
   "source": [
    "calcs = calc_tf_idf(calc_idf, tf, data.data)"
   ]
  },
  {
   "cell_type": "code",
   "execution_count": 29,
   "metadata": {
    "collapsed": false
   },
   "outputs": [
    {
     "name": "stdout",
     "output_type": "stream",
     "text": [
      "body\t\t2.93923753027\n",
      "all\t\t1.6453876453\n",
      "the\t\t6.08916723272\n",
      "is\t\t2.24120953919\n",
      "out\t\t1.75868959611\n",
      "history\t\t2.85308753111\n",
      "it\t\t2.29219038462\n",
      "rest\t\t2.792201595\n",
      "years\t\t2.26792788146\n",
      "production\t3.56455177826\n",
      "have\t\t1.38658021332\n",
      "in\t\t1.23544394039\n",
      "saw\t\t2.88082107186\n",
      "specs\t\t3.61972580684\n",
      "enlighten\t4.38442340922\n",
      "anyone\t\t3.05561507854\n",
      "from\t\t2.60275300215\n",
      "bricklin\t5.32032449767\n",
      "there\t\t1.64651359077\n",
      "please\t\t2.14357444903\n",
      "sports\t\t3.61972580684\n",
      "late\t\t3.09899886943\n",
      "to\t\t1.14759678359\n",
      "other\t\t1.8406252416\n",
      "wondering\t3.07882322166\n",
      "you\t\t1.41201525016\n",
      "really\t\t2.19149070373\n",
      "was\t\t4.62430871391\n",
      "engine\t\t3.20690762504\n",
      "be\t\t1.41565530668\n",
      "doors\t\t3.76356684307\n",
      "separate\t3.24088295599\n",
      "addition\t3.14842178674\n",
      "early\t\t2.87514993356\n",
      "me\t\t1.73143328957\n",
      "were\t\t1.95243449055\n",
      "if\t\t2.46780588553\n",
      "whatever\t2.83541784788\n",
      "front\t\t2.95884788685\n",
      "day\t\t2.51558860008\n",
      "a\t\t3.15465178525\n",
      "on\t\t2.3968340066\n",
      "made\t\t2.3208562167\n",
      "name\t\t2.57174038502\n",
      "car\t\t5.69681246159\n",
      "i\t\t3.22480077142\n",
      "of\t\t2.19481867247\n",
      "could\t\t1.95810788674\n",
      "this\t\t4.3853370263\n",
      "called\t\t2.50025827388\n",
      "looked\t\t3.0355529935\n",
      "tellme\t\t5.66689808795\n",
      "funky\t\t4.86217913173\n",
      "info\t\t2.75537514021\n",
      "can\t\t1.60839104408\n",
      "bumper\t\t4.221712209\n",
      "small\t\t2.63268529383\n",
      "model\t\t2.95884788685\n",
      "looking\t\t2.49671843609\n",
      "where\t\t2.10667590176\n",
      "or\t\t1.49109271264\n",
      "know\t\t1.80489575961\n"
     ]
    }
   ],
   "source": [
    "import sys\n",
    "for key in calcs[0]:\n",
    "    sys.stdout.write(key)\n",
    "    sys.stdout.write(\"\\t\"*(2 - len(key)/8))\n",
    "    sys.stdout.write(str(calcs[0][key])+'\\n')"
   ]
  },
  {
   "cell_type": "code",
   "execution_count": null,
   "metadata": {
    "collapsed": true
   },
   "outputs": [],
   "source": []
  }
 ],
 "metadata": {
  "kernelspec": {
   "display_name": "Python 2",
   "language": "python2",
   "name": "python2"
  },
  "language_info": {
   "codemirror_mode": {
    "name": "ipython",
    "version": 2
   },
   "file_extension": ".py",
   "mimetype": "text/x-python",
   "name": "python",
   "nbconvert_exporter": "python",
   "pygments_lexer": "ipython2",
   "version": "2.7.11"
  }
 },
 "nbformat": 4,
 "nbformat_minor": 0
}
