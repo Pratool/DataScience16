{
 "cells": [
  {
   "cell_type": "markdown",
   "metadata": {},
   "source": [
    "Exercise from Think Stats, 2nd Edition (thinkstats2.com)<br>\n",
    "Allen Downey\n",
    "\n",
    "Read the female respondent file and display the variables names."
   ]
  },
  {
   "cell_type": "code",
   "execution_count": 2,
   "metadata": {
    "collapsed": false
   },
   "outputs": [
    {
     "name": "stdout",
     "output_type": "stream",
     "text": [
      "abort12, abortion, abortion_i, acasilang, achieve, addexp, addexp_i, adj_mod_basewgt, adptotkd, adptotkd10, adptotkd11, adptotkd12, adptotkd13, adptotkd14, adptotkd15, adptotkd16, adptotkd17, adptotkd2, adptotkd3, adptotkd4, adptotkd5, adptotkd6, adptotkd7, adptotkd8, adptotkd9, advice, advice_i, afmen15, afmen18, afmen20, age_a, age_r, agebaby1, agebaby1_i, agecon01, agecon01_i, agecon02, agecon02_i, agecon03, agecon03_i, agecon04, agecon04_i, agecon05, agecon05_i, agecon06, agecon06_i, agecon07, agecon07_i, agecon08, agecon08_i, agecon09, agecon09_i, agecon10, agecon10_i, agecon11, agecon11_i, agecon12, agecon12_i, agecon13, agecon13_i, agecon14, agecon14_i, agecon15, agecon15_i, agecon16, agecon16_i, agecon17, agecon17_i, agecon18, agecon18_i, agecon19, agecon19_i, agedd1, agedd1_i, agediss1, agediss1_i, agefstsx, agefstus, agemarhx, agemarhx2, agemarhx3, agemomb1, agemomb1_i, ageprg01, ageprg01_i, ageprg02, ageprg02_i, ageprg03, ageprg03_i, ageprg04, ageprg04_i, ageprg05, ageprg05_i, ageprg06, ageprg06_i, ageprg07, ageprg07_i, ageprg08, ageprg08_i, ageprg09, ageprg09_i, ageprg10, ageprg10_i, ageprg11, ageprg11_i, ageprg12, ageprg12_i, ageprg13, ageprg13_i, ageprg14, ageprg14_i, ageprg15, ageprg15_i, ageprg16, ageprg16_i, ageprg17, ageprg17_i, ageprg18, ageprg18_i, ageprg19, ageprg19_i, ager, ager_i, agescrn, agesxafm, aidstalk, aidstalk02, aidstalk03, aidstalk04, aidstalk05, aidstalk06, aidstalk07, aidstalk08, aidstalk09, aidstalk10, anyact, anybc12, anybc36, anyfster, anymschp, anymschp_i, anymster, anymthd, anymthd_i, anyopsmn, anyprghp, anyprghp_i, apprec1, aprocess1, aprocess2, aprocess3, attnd14, attndnow, b1premar, b1premar_i, b4afstin, basewgt, bc12pay101, bc12pay102, bc12pay103, bc12pay11, bc12pay111, bc12pay112, bc12pay113, bc12pay12, bc12pay121, bc12pay122, bc12pay123, bc12pay13, bc12pay131, bc12pay132, bc12pay133, bc12pay141, bc12pay142, bc12pay143, bc12pay21, bc12pay22, bc12pay23, bc12pay31, bc12pay32, bc12pay33, bc12pay41, bc12pay42, bc12pay43, bc12pay51, bc12pay52, bc12pay53, bc12pay61, bc12pay62, bc12pay63, bc12pay71, bc12pay72, bc12pay73, bc12pay81, bc12pay82, bc12pay91, bc12pay92, bc12pay93, bc12plcx, bc12plcx10, bc12plcx11, bc12plcx12, bc12plcx13, bc12plcx14, bc12plcx2, bc12plcx3, bc12plcx4, bc12plcx5, bc12plcx6, bc12plcx7, bc12plcx8, bc12plcx9, bccns12, bcplcfst, bcreas, bcreas2, bcreas3, bcreas4, bcreasm, bcwhyf, bcwhyf2, bcwhyf3, bcwhyf4, bcwhym, better, births5, births5_i, bothbiol, brnout, bstraccx, bstrachx, bstrachx2, bstrachx4, bthcon12, c_sex15, c_sex18, c_sex20, canhavem, canhaver, caseid, cebow, cebow_i, cebowc, cebowc_i, cervlcap, chbother, chcarany, chcartyp01, chcartyp02, chcartyp03, chcartyp04, chcartyp05, chcartyp06, chcartyp07, chcartyp08, chedmarn, chedmarn2, chedmarn3, chedmarn4, chedmarn5, chkid18a, chkid18a2, chkid18a3, chkid18a4, chkid18b, chkid18b2, chkid18b3, chkid18b4, chldsupp, chosdisb, choseage, chosenum, chosesex, chosrace, chreward, chsuppor, cmbfstwk, cmbirth, cmcohstx, cmcohstx2, cmcohstx3, cmcohstx4, cmcohstx5, cmcohstx6, cmcohstx7, cmcohstx8, cmdatbgn, cmdatlst, cmdivorcx, cmdivorcx2, cmdivorcx3, cmdivorcx4, cmdobch, cmdobcp, cmdobcx, cmdobcx2, cmdobcx3, cmdobcx4, cmdobcx5, cmdobcx6, cmdobcx7, cmdobcx8, cmdobhp, cmendmc, cmfirsm, cmfplast, cmfsexx, cmfsexx10, cmfsexx11, cmfsexx12, cmfsexx13, cmfsexx14, cmfsexx15, cmfsexx16, cmfsexx17, cmfsexx18, cmfsexx19, cmfsexx2, cmfsexx20, cmfsexx3, cmfsexx4, cmfsexx5, cmfsexx6, cmfsexx7, cmfsexx8, cmfsexx9, cmfstprg, cmfstsex, cmfstsvc, cmfstuse, cmhivtst, cmhsbdiex, cmhsbdiex2, cmhsbdobx, cmhsbdobx2, cmhsbdobx3, cmhsbdobx4, cmhsbdobx5, cmhsgrad, cmhyst, cmintvw, cmlastlb, cmlastsx, cmligrev, cmlsexfp, cmlsexx, cmlsexx10, cmlsexx11, cmlsexx12, cmlsexx13, cmlsexx14, cmlsexx15, cmlsexx16, cmlsexx17, cmlsexx18, cmlsexx19, cmlsexx2, cmlsexx20, cmlsexx3, cmlsexx4, cmlsexx5, cmlsexx6, cmlsexx7, cmlsexx8, cmlsexx9, cmlstprg, cmlstsx12, cmlstsxx, cmlstsxx10, cmlstsxx11, cmlstsxx12, cmlstsxx13, cmlstsxx14, cmlstsxx15, cmlstsxx16, cmlstsxx17, cmlstsxx18, cmlstsxx19, cmlstsxx2, cmlstsxx20, cmlstsxx3, cmlstsxx4, cmlstsxx5, cmlstsxx6, cmlstsxx7, cmlstsxx8, cmlstsxx9, cmlstyr, cmmaleop, cmmarrch, cmmarrhx, cmmarrhx2, cmmarrhx3, cmmarrhx4, cmmarrhx5, cmokdcam, cmokdcam2, cmokdcam3, cmokdcam4, cmokdcam5, cmokdcam6, cmokdcam7, cmokdcam8, cmokddob, cmokddob2, cmokddob3, cmokddob4, cmokddob5, cmokddob6, cmokddob7, cmokddob8, cmoper1, cmotsurg, cmovarem, cmpart1y1, cmpart1y2, cmpart1y3, cmpgvis1, cmpgvisl, cmpidlst, cmpmcohx, cmpmcohx2, cmpmcohx3, cmpmcohx4, cmpmcohx5, cmsexafm, cmstpcohx, cmstpcohx2, cmstpcohx3, cmstpcohx4, cmstpcohx5, cmstpcohx6, cmstpcohx7, cmstpcohx8, cmstphsbx, cmstphsbx2, cmstphsbx3, cmstphsbx4, cmstrtcp, cmstrthp, cmstrtmc, cmtublig, cmvasrev, cntry00, coh1dur, coh1dur_i, cohab1, cohab1_i, cohever, cohever_i, cohout, cohout_i, cohstat, cohstat_i, compgrd, compreg, compreg_i, con1mar1, con1mar1_i, condom, condomr, condomr_i, constat1, constat1_i, constat2, constat2_i, constat3, constat3_i, constat4, constat4_i, contagem, cover12, coverhow01, coverhow02, coverhow03, cpbestr, cpeduc, cpengag1, cpherage, cphisage, cphisp, cpkid18a, cpkid18b, cpkidliv, cpkids, cpmarbef, cpnumkds, cprace1, cprace2, currmeth1, currmeth2, currmeth3, currmeth4, currpreg, currprts, currprtt, cxkids, cxkids2, cxkids3, cxkids4, cxkids5, cxkids6, cxkids7, cxkids8, daddegre, datbaby1, datbaby1_i, datcon01, datcon01_i, datcon02, datcon02_i, datcon03, datcon03_i, datcon04, datcon04_i, datcon05, datcon05_i, datcon06, datcon06_i, datcon07, datcon07_i, datcon08, datcon08_i, datcon09, datcon09_i, datcon10, datcon10_i, datcon11, datcon11_i, datcon12, datcon12_i, datcon13, datcon13_i, datcon14, datcon14_i, datcon15, datcon15_i, datcon16, datcon16_i, datcon17, datcon17_i, datcon18, datcon18_i, datcon19, datcon19_i, datend01, datend01_i, datend02, datend02_i, datend03, datend03_i, datend04, datend04_i, datend05, datend05_i, datend06, datend06_i, datend07, datend07_i, datend08, datend08_i, datend09, datend09_i, datend10, datend10_i, datend11, datend11_i, datend12, datend12_i, datend13, datend13_i, datend14, datend14_i, datend15, datend15_i, datend16, datend16_i, datend17, datend17_i, datend18, datend18_i, datend19, datend19_i, datesex1, datesex1_i, dateuse1, dateuse1_i, dd1remar, dd1remar_i, degrees, depoprov, dfnlstrl, dfnlstrx, diabetes, diafragm, dipged, disabil, dividend, dolastwk1, dolastwk2, dolastwk3, dolastwk4, dolastwk5, dolastwk6, donbld85, drugdev, duchfreq, duchwhen, durtry_n, durtry_p, eccns12, ecreason1, ecreason2, ectimesx, educat, educat_i, educmom, educmom_i, embarras, emcon12, endo, endomet, endomet_i, engag1cx, engag1cx2, engag1cx3, engag1cx4, engag1cx5, engag1cx6, engag1cx7, engag1cx8, engaghx, engaghx2, engaghx3, engaghx4, engaghx5, equipmnt, evcontag, everadpt, everfpc, everhyst, everothr, everovrs, everpreg, eversex, evertubs, everused, everwork, evhivtst, evhivtst_i, evmarcoh, evmarcoh_i, evrcohab, evrmarry, evrntwrk, evwntano, evwrk6mo, expectl, expects, family, fcondom, fecund, fecund_i, ffoam, fibroids, fibroids_i, finalwgt, firsmeth01, firsmeth02, firsmeth03, firsmeth04, firstime1, firstime2, fl_rage, fl_rhisp, fl_rrace, fmar1age, fmar1age_i, fmarit, fmarital, fmarital_i, fmarno, fmarno_i, fmarstat, fmedreas1, fmedreas10, fmedreas11, fmedreas13, fmedreas14, fmedreas15, fmedreas16, fmedreas19, fmedreas2, fmedreas20, fmedreas21, fmedreas22, fmedreas3, fmedreas4, fmedreas5, fmedreas7, fmedreas8, fmedreas9, fmethod1, fmethod1_i, fmethod2, fmethod2_i, fmethod3, fmethod3_i, fmethod4, fmethod4_i, foamalon, follow12, foodstmp, foral, fpage, fpregfp, fpregfp_i, fpregmed, fpregmed_i, fprelage, fprelyrs, fpt12mos, fptit12, fptit12_i, fptitmed, fptitmed_i, fsexpage, fsexpage_i, fstmthp11, fstmthp12, fstmthp13, fstmthp14, fstmthp21, fstmthp22, fstmthp23, fstmthp24, fstmthp31, fstmthp32, fstmthp33, fstmthp34, fstrop12, fstsvc12, fundam, gayadopt, gestdiab, giveadpt, goschol, grfstsx, hadsex, hadsex_i, hasbabes, havedeg, havedip, heragecx, heragecx2, heragecx3, heragecx4, heragecx5, heragecx6, heragecx7, heragecx8, hhadall, hhadall2, hhadall3, hhadall4, hhadallm, hieduc, hieduc_i, higrade, hisagecx, hisagecx2, hisagecx3, hisagecx4, hisagecx5, hisagecx6, hisagecx7, hisagecx8, hisp, hispanic, hispanic_i, hispcx, hispgrp, hisphx, hisphx2, hisphx3, hisphx4, hisphx5, hisprace, hisprace_i, hivtest, hivtst, hivtst2, hivtst3, hlpchldc, hlpjob, hlpmc, hlppgnow, hlpprg, hlptrans, hmothmen, howmanyr, hplocale, hppregq, hsbverif, hxagemar, hxagemar2, hxagemar3, hxagemar4, hxagemar5, hyst, infert, infert_i, inferth, inferth_i, infertr, infertr_i, infever, infever_i, infrtprb, infrtprb2, infrtprb3, infrtprb4, infrtprb5, infrtprb6, inpatien, inscovpg, insem, insem_i, insuranc, insuranc_i, intact, intact18, intctfam, intctfam_i, intend, intendn, intent, intent_i, interest, intr_ec3, intvlngth, invitro, invitro_i, iud, jelcrmal, jexpectl, jexpects, jintend, jintendn, jsureint, kdbstrac, kdbstrac8, kidlivhx, kidlivhx2, kidlivhx3, kidlivhx4, kidlivhx5, kidshx, kidshx2, kidshx3, kidshx4, kidshx5, kndmdhlp, knowadpt, knowfp, laborfor, laborfor_i, lastmonmeth1, lastmonmeth2, lastmonmeth3, lastmonmeth4, lastsex, lbpregs, lbpregs_i, lessplsr, lifeprt, lifeprt_hi, lifeprt_lo, lifeprts, lifprtnr, lifprtnr_i, limited, liv1chld, liv1chld_i, liveoth, lossnum, lossnum_i, lsexdate, lsexdate_i, lsexrage, lsexrage_i, lstmthp11, lstmthp12, lstmthp13, lstmthp14, lstmthp21, lstmthp22, lstmthp23, lstmthp24, lstmthp31, lstmthp32, lstmthp33, lstmthp34, lunelle, lvsit14f, lvsit14m, lvtoghx, lvtoghx2, lvtoghx3, lvtoghx4, lvtoghx5, manrasdu, manrel, manwantr, manwantt, mar1bir1, mar1bir1_i, mar1con1, mar1con1_i, mar1diss, mar1diss_i, marbefhx, marbefhx2, marbefhx3, marbefhx4, marbefhx5, marcon01, marcon01_i, marcon02, marcon02_i, marcon03, marcon03_i, marcon04, marcon04_i, marcon05, marcon05_i, marcon06, marcon06_i, marcon07, marcon07_i, marcon08, marcon08_i, marcon09, marcon09_i, marcon10, marcon10_i, marcon11, marcon11_i, marcon12, marcon12_i, marcon13, marcon13_i, marcon14, marcon14_i, marcon15, marcon15_i, marcon16, marcon16_i, marcon17, marcon17_i, marcon18, marcon18_i, marcon19, marcon19_i, mardat01, mardat01_i, mardat02, mardat02_i, mardat03, mardat03_i, mardat04, mardat04_i, mardat05, mardat05_i, mardis01, mardis01_i, mardis02, mardis02_i, mardis03, mardis03_i, mardis04, mardis04_i, mardis05, mardis05_i, marend01, marend01_i, marend02, marend02_i, marend03, marend03_i, marend04, marend04_i, marend05, marend05_i, marendhx, marendhx2, marendhx3, marendhx4, marevcx, marevcx2, marevcx3, marevcx4, marevcx5, marevcx6, marevcx7, marevcx8, marout01, marout01_i, marout02, marout02_i, marout03, marout03_i, marout04, marout04_i, marout05, marout05_i, marout06, marout06_i, marout07, marout07_i, marout08, marout08_i, marout09, marout09_i, marout10, marout10_i, marout11, marout11_i, marout12, marout12_i, marout13, marout13_i, marout14, marout14_i, marout15, marout15_i, marout16, marout16_i, marout17, marout17_i, marout18, marout18_i, marout19, marout19_i, marstat, maybpreg, medreas1, medreas2, medtst12, menarche, meth12m1, meth12m1_i, meth12m2, meth12m2_i, meth12m3, meth12m3_i, meth12m4, meth12m4_i, meth3m1, meth3m1_i, meth3m2, meth3m2_i, meth3m3, meth3m3_i, meth3m4, meth3m4_i, methdiss, methhist011, methhist012, methhist013, methhist014, methhist021, methhist022, methhist023, methhist024, methhist031, methhist032, methhist033, methhist034, methhist041, methhist042, methhist043, methhist044, methhist051, methhist052, methhist053, methhist054, methhist061, methhist062, methhist063, methhist064, methhist071, methhist072, methhist073, methhist074, methhist081, methhist082, methhist083, methhist084, methhist091, methhist092, methhist093, methhist094, methhist101, methhist102, methhist103, methhist104, methhist111, methhist112, methhist113, methhist114, methhist121, methhist122, methhist123, methhist124, methhist131, methhist132, methhist133, methhist134, methhist141, methhist142, methhist143, methhist144, methhist151, methhist152, methhist153, methhist154, methhist161, methhist162, methhist163, methhist164, methhist171, methhist172, methhist173, methhist174, methhist181, methhist182, methhist183, methhist184, methhist191, methhist192, methhist193, methhist194, methhist201, methhist202, methhist203, methhist204, methhist211, methhist212, methhist213, methhist214, methhist221, methhist222, methhist223, methhist224, methhist231, methhist232, methhist233, methhist234, methhist241, methhist242, methhist243, methhist244, methhist251, methhist252, methhist253, methhist254, methhist261, methhist262, methhist263, methhist264, methhist271, methhist272, methhist273, methhist274, methhist281, methhist282, methhist283, methhist284, methhist291, methhist292, methhist293, methhist294, methhist301, methhist302, methhist303, methhist304, methhist311, methhist312, methhist313, methhist314, methhist321, methhist322, methhist323, methhist324, methhist331, methhist332, methhist333, methhist334, methhist341, methhist342, methhist343, methhist344, methhist351, methhist352, methhist353, methhist354, methhist361, methhist362, methhist363, methhist364, methhist371, methhist372, methhist373, methhist374, methhist381, methhist382, methhist383, methhist384, methhist391, methhist392, methhist393, methhist394, methhist401, methhist402, methhist403, methhist404, methhist411, methhist412, methhist413, methhist414, methhist421, methhist422, methhist423, methhist424, methhist431, methhist432, methhist433, methhist434, methhist441, methhist442, methhist443, methhist444, methhist451, methhist452, methhist453, methhist454, methhist461, methhist462, methhist463, methhist464, methhist471, methhist472, methhist473, methhist474, methhist481, methhist482, methhist483, methhist484, methhist491, methhist492, methhist493, methhist494, methhist501, methhist502, methhist503, methhist504, methhist511, methhist512, methhist513, methhist514, methstop01, methstop02, methstop03, methstop04, methstop05, methstop06, methstop07, methstop08, methstop09, methstop10, metro, metro_i, mincdnmn, mincdnnr, mincdnnr2, mincdnnr3, mincdnnr4, miscnum, mom18, momchild, momdegre, momfstch, momworkd, mon12prt, mon12prt_hi, mon12prt_lo, monsx1177, monsx1178, monsx1179, monsx1180, monsx1181, monsx1182, monsx1183, monsx1184, monsx1185, monsx1186, monsx1187, monsx1188, monsx1189, monsx1190, monsx1191, monsx1192, monsx1193, monsx1194, monsx1195, monsx1196, monsx1197, monsx1198, monsx1199, monsx1200, monsx1201, monsx1202, monsx1203, monsx1204, monsx1205, monsx1206, monsx1207, monsx1208, monsx1209, monsx1210, monsx1211, monsx1212, monsx1213, monsx1214, monsx1215, monsx1216, monsx1217, monsx1218, monsx1219, monsx1220, monsx1221, monsx1222, monsx1223, monsx1224, monsx1225, monsx1226, monsx1227, monsx1228, monsx1229, monsx1230, monsx1231, monsx1232, monsx1233, monsx1234, monsx1235, monsx1236, monsx1237, monsx1238, monsx1239, mornpill, moscurrp, mthfrsts01, mthfrsts02, mthfrsts03, mthfrsts04, mthfstsx01, mthfstsx02, mthfstsx03, mthfstsx04, mthfstsx05, mthuse12, mthuse12_i, mthuse3, mthuse3_i, mthusimx01, mthusimx02, mthusimx03, mthusimx04, mthusimx1001, mthusimx1002, mthusimx1003, mthusimx1004, mthusimx101, mthusimx102, mthusimx1026, mthusimx1027, mthusimx1028, mthusimx1029, mthusimx103, mthusimx104, mthusimx1051, mthusimx1052, mthusimx1053, mthusimx1054, mthusimx1101, mthusimx1102, mthusimx1103, mthusimx1104, mthusimx1126, mthusimx1127, mthusimx1128, mthusimx1129, mthusimx1151, mthusimx1152, mthusimx1153, mthusimx1154, mthusimx1201, mthusimx1202, mthusimx1203, mthusimx1204, mthusimx1226, mthusimx1227, mthusimx1228, mthusimx1229, mthusimx1251, mthusimx1252, mthusimx1253, mthusimx1254, mthusimx126, mthusimx127, mthusimx128, mthusimx129, mthusimx1301, mthusimx1302, mthusimx1303, mthusimx1304, mthusimx1326, mthusimx1327, mthusimx1328, mthusimx1329, mthusimx1351, mthusimx1352, mthusimx1353, mthusimx1354, mthusimx1401, mthusimx1402, mthusimx1403, mthusimx1404, mthusimx1426, mthusimx1427, mthusimx1428, mthusimx1429, mthusimx1451, mthusimx1452, mthusimx1453, mthusimx1454, mthusimx1501, mthusimx1502, mthusimx1503, mthusimx1504, mthusimx151, mthusimx152, mthusimx1526, mthusimx1527, mthusimx1528, mthusimx1529, mthusimx153, mthusimx154, mthusimx1551, mthusimx1552, mthusimx1553, mthusimx1554, mthusimx1601, mthusimx1602, mthusimx1603, mthusimx1604, mthusimx1626, mthusimx1627, mthusimx1628, mthusimx1629, mthusimx1651, mthusimx1652, mthusimx1653, mthusimx1654, mthusimx1701, mthusimx1702, mthusimx1703, mthusimx1704, mthusimx1726, mthusimx1727, mthusimx1728, mthusimx1729, mthusimx1751, mthusimx1752, mthusimx1753, mthusimx1754, mthusimx1801, mthusimx1802, mthusimx1803, mthusimx1804, mthusimx1826, mthusimx1827, mthusimx1828, mthusimx1829, mthusimx1851, mthusimx1852, mthusimx1853, mthusimx1854, mthusimx1901, mthusimx1902, mthusimx1903, mthusimx1904, mthusimx1926, mthusimx1927, mthusimx1928, mthusimx1929, mthusimx1951, mthusimx1952, mthusimx1953, mthusimx1954, mthusimx2001, mthusimx2002, mthusimx2003, mthusimx2004, mthusimx201, mthusimx202, mthusimx2026, mthusimx2027, mthusimx2028, mthusimx2029, mthusimx203, mthusimx204, mthusimx2051, mthusimx2052, mthusimx2053, mthusimx2054, mthusimx2101, mthusimx2102, mthusimx2103, mthusimx2104, mthusimx2126, mthusimx2127, mthusimx2128, mthusimx2129, mthusimx2151, mthusimx2152, mthusimx2153, mthusimx2154, mthusimx2201, mthusimx2202, mthusimx2203, mthusimx2204, mthusimx2226, mthusimx2227, mthusimx2228, mthusimx2229, mthusimx2251, mthusimx2252, mthusimx2253, mthusimx2254, mthusimx226, mthusimx227, mthusimx228, mthusimx229, mthusimx2301, mthusimx2302, mthusimx2303, mthusimx2304, mthusimx2326, mthusimx2327, mthusimx2328, mthusimx2329, mthusimx2351, mthusimx2352, mthusimx2353, mthusimx2354, mthusimx2401, mthusimx2402, mthusimx2403, mthusimx2404, mthusimx2426, mthusimx2427, mthusimx2428, mthusimx2429, mthusimx2451, mthusimx2452, mthusimx2453, mthusimx2454, mthusimx2501, mthusimx2502, mthusimx2503, mthusimx2504, mthusimx251, mthusimx252, mthusimx2526, mthusimx2527, mthusimx2528, mthusimx2529, mthusimx253, mthusimx254, mthusimx2551, mthusimx2552, mthusimx2553, mthusimx2554, mthusimx26, mthusimx2601, mthusimx2602, mthusimx2603, mthusimx2604, mthusimx2626, mthusimx2627, mthusimx2628, mthusimx2629, mthusimx2651, mthusimx2652, mthusimx2653, mthusimx2654, mthusimx27, mthusimx2701, mthusimx2702, mthusimx2703, mthusimx2704, mthusimx2726, mthusimx2727, mthusimx2728, mthusimx2729, mthusimx2751, mthusimx2752, mthusimx2753, mthusimx2754, mthusimx28, mthusimx2801, mthusimx2802, mthusimx2803, mthusimx2804, mthusimx2826, mthusimx2827, mthusimx2828, mthusimx2829, mthusimx2851, mthusimx2852, mthusimx2853, mthusimx2854, mthusimx29, mthusimx2901, mthusimx2902, mthusimx2903, mthusimx2904, mthusimx2926, mthusimx2927, mthusimx2928, mthusimx2929, mthusimx2951, mthusimx2952, mthusimx2953, mthusimx2954, mthusimx3001, mthusimx3002, mthusimx3003, mthusimx3004, mthusimx301, mthusimx302, mthusimx3026, mthusimx3027, mthusimx3028, mthusimx3029, mthusimx303, mthusimx304, mthusimx3051, mthusimx3052, mthusimx3053, mthusimx3054, mthusimx3101, mthusimx3102, mthusimx3103, mthusimx3104, mthusimx3126, mthusimx3127, mthusimx3128, mthusimx3129, mthusimx3151, mthusimx3152, mthusimx3153, mthusimx3154, mthusimx3201, mthusimx3202, mthusimx3203, mthusimx3204, mthusimx3226, mthusimx3227, mthusimx3228, mthusimx3229, mthusimx3251, mthusimx3252, mthusimx3253, mthusimx3254, mthusimx326, mthusimx327, mthusimx328, mthusimx329, mthusimx3301, mthusimx3302, mthusimx3303, mthusimx3304, mthusimx3326, mthusimx3327, mthusimx3328, mthusimx3329, mthusimx3351, mthusimx3352, mthusimx3353, mthusimx3354, mthusimx3401, mthusimx3402, mthusimx3403, mthusimx3404, mthusimx3426, mthusimx3427, mthusimx3428, mthusimx3429, mthusimx3451, mthusimx3452, mthusimx3453, mthusimx3454, mthusimx3501, mthusimx3502, mthusimx3503, mthusimx3504, mthusimx351, mthusimx352, mthusimx3526, mthusimx3527, mthusimx3528, mthusimx3529, mthusimx353, mthusimx354, mthusimx3551, mthusimx3552, mthusimx3553, mthusimx3554, mthusimx3601, mthusimx3602, mthusimx3603, mthusimx3604, mthusimx3626, mthusimx3627, mthusimx3628, mthusimx3629, mthusimx3651, mthusimx3652, mthusimx3653, mthusimx3654, mthusimx3701, mthusimx3702, mthusimx3703, mthusimx3704, mthusimx3726, mthusimx3727, mthusimx3728, mthusimx3729, mthusimx3751, mthusimx3752, mthusimx3753, mthusimx3754, mthusimx3801, mthusimx3802, mthusimx3803, mthusimx3804, mthusimx3826, mthusimx3827, mthusimx3828, mthusimx3829, mthusimx3851, mthusimx3852, mthusimx3853, mthusimx3854, mthusimx3901, mthusimx3902, mthusimx3903, mthusimx3904, mthusimx3926, mthusimx3927, mthusimx3928, mthusimx3929, mthusimx3951, mthusimx3952, mthusimx3953, mthusimx3954, mthusimx4001, mthusimx4002, mthusimx4003, mthusimx4004, mthusimx401, mthusimx402, mthusimx4026, mthusimx4027, mthusimx4028, mthusimx4029, mthusimx403, mthusimx404, mthusimx4051, mthusimx4052, mthusimx4053, mthusimx4054, mthusimx4101, mthusimx4102, mthusimx4103, mthusimx4104, mthusimx4126, mthusimx4127, mthusimx4128, mthusimx4129, mthusimx4151, mthusimx4152, mthusimx4153, mthusimx4154, mthusimx4201, mthusimx4202, mthusimx4203, mthusimx4204, mthusimx4226, mthusimx4227, mthusimx4228, mthusimx4229, mthusimx4251, mthusimx4252, mthusimx4253, mthusimx4254, mthusimx426, mthusimx427, mthusimx428, mthusimx429, mthusimx4301, mthusimx4302, mthusimx4303, mthusimx4304, mthusimx4326, mthusimx4327, mthusimx4328, mthusimx4329, mthusimx4351, mthusimx4352, mthusimx4353, mthusimx4354, mthusimx4401, mthusimx4402, mthusimx4403, mthusimx4404, mthusimx4426, mthusimx4427, mthusimx4428, mthusimx4429, mthusimx4451, mthusimx4452, mthusimx4453, mthusimx4454, mthusimx4501, mthusimx4502, mthusimx4503, mthusimx4504, mthusimx451, mthusimx452, mthusimx4526, mthusimx4527, mthusimx4528, mthusimx4529, mthusimx453, mthusimx454, mthusimx4551, mthusimx4552, mthusimx4553, mthusimx4554, mthusimx4601, mthusimx4602, mthusimx4603, mthusimx4604, mthusimx4626, mthusimx4627, mthusimx4628, mthusimx4629, mthusimx4651, mthusimx4652, mthusimx4653, mthusimx4654, mthusimx4701, mthusimx4702, mthusimx4703, mthusimx4704, mthusimx4726, mthusimx4727, mthusimx4728, mthusimx4729, mthusimx4751, mthusimx4752, mthusimx4753, mthusimx4754, mthusimx4801, mthusimx4802, mthusimx4803, mthusimx4804, mthusimx4826, mthusimx4827, mthusimx4828, mthusimx4829, mthusimx4851, mthusimx4852, mthusimx4853, mthusimx4854, mthusimx4901, mthusimx4902, mthusimx4903, mthusimx4904, mthusimx4926, mthusimx4927, mthusimx4928, mthusimx4929, mthusimx4951, mthusimx4952, mthusimx4953, mthusimx4954, mthusimx5001, mthusimx5002, mthusimx5003, mthusimx5004, mthusimx501, mthusimx502, mthusimx5026, mthusimx5027, mthusimx5028, mthusimx5029, mthusimx503, mthusimx504, mthusimx5051, mthusimx5052, mthusimx5053, mthusimx5054, mthusimx51, mthusimx52, mthusimx526, mthusimx527, mthusimx528, mthusimx529, mthusimx53, mthusimx54, mthusimx551, mthusimx552, mthusimx553, mthusimx554, mthusimx601, mthusimx602, mthusimx603, mthusimx604, mthusimx626, mthusimx627, mthusimx628, mthusimx629, mthusimx651, mthusimx652, mthusimx653, mthusimx654, mthusimx701, mthusimx702, mthusimx703, mthusimx704, mthusimx726, mthusimx727, mthusimx728, mthusimx729, mthusimx751, mthusimx752, mthusimx753, mthusimx754, mthusimx801, mthusimx802, mthusimx803, mthusimx804, mthusimx826, mthusimx827, mthusimx828, mthusimx829, mthusimx851, mthusimx852, mthusimx853, mthusimx854, mthusimx901, mthusimx902, mthusimx903, mthusimx904, mthusimx926, mthusimx927, mthusimx928, mthusimx929, mthusimx951, mthusimx952, mthusimx953, mthusimx954, nadoptv, ndied, newmeth, ngivenad, nometh, nometh2, norplant, nosex12, nosex12_i, nosex36, nothrkid, nowcover01, nowcover02, nowcover03, nplaced, numbabes, numbcvis, numdiss, numfirsm, numfirsm1, numfirsm2, numfmhh, numfmhh_i, numkdhh, numkdhh_i, numkdshx, numkdshx2, numkdshx3, numkdshx4, numkdshx5, nummult, nummult10, nummult11, nummult12, nummult13, nummult14, nummult15, nummult16, nummult17, nummult18, nummult19, nummult2, nummult20, nummult21, nummult22, nummult23, nummult24, nummult25, nummult26, nummult27, nummult28, nummult29, nummult3, nummult30, nummult31, nummult32, nummult33, nummult34, nummult35, nummult36, nummult37, nummult38, nummult39, nummult4, nummult40, nummult41, nummult42, nummult43, nummult44, nummult45, nummult46, nummult47, nummult48, nummult49, nummult5, nummult50, nummult51, nummult6, nummult7, nummult8, nummult9, numnocov, nump3mos, nump3mos_i, numplac1, numplac2, numpregs, numrace, numvstpg, okbornus, okbornus2, okbornus3, okbornus4, okbornus5, okbornus6, okbornus7, okbornus8, okcohab, okdisabl1, okdisabl13, okdisabl17, okdisabl21, okdisabl25, okdisabl29, okdisabl5, okdisabl9, oldwp01, oldwp01_i, oldwp02, oldwp02_i, oldwp03, oldwp03_i, oldwp04, oldwp04_i, oldwp05, oldwp05_i, oldwp06, oldwp06_i, oldwp07, oldwp07_i, oldwp08, oldwp08_i, oldwp09, oldwp09_i, oldwp10, oldwp10_i, oldwp11, oldwp11_i, oldwp12, oldwp12_i, oldwp13, oldwp13_i, oldwp14, oldwp14_i, oldwp15, oldwp15_i, oldwp16, oldwp16_i, oldwp17, oldwp17_i, oldwp18, oldwp18_i, oldwp19, oldwp19_i, oldwr01, oldwr01_i, oldwr02, oldwr02_i, oldwr03, oldwr03_i, oldwr04, oldwr04_i, oldwr05, oldwr05_i, oldwr06, oldwr06_i, oldwr07, oldwr07_i, oldwr08, oldwr08_i, oldwr09, oldwr09_i, oldwr10, oldwr10_i, oldwr11, oldwr11_i, oldwr12, oldwr12_i, oldwr13, oldwr13_i, oldwr14, oldwr14_i, oldwr15, oldwr15_i, oldwr16, oldwr16_i, oldwr17, oldwr17_i, oldwr18, oldwr18_i, oldwr19, oldwr19_i, onlytbvs, onotfunc, onown, onown18, opersame, opersame2, opersame3, opersame4, opersame5, opersame6, otherkid, othinc, othkdfos, othkdfos2, othkdfos3, othkdfos4, othkdfos5, othkdfos6, othkdfos7, othkdfos8, othkdrac1, othkdrac11, othkdrac16, othkdrac2, othkdrac21, othkdrac26, othkdrac31, othkdrac36, othkdrac37, othkdrac6, othkdspn, othkdspn2, othkdspn3, othkdspn4, othkdspn5, othkdspn6, othkdspn7, othkdspn8, othr, othrm, othrmeth, otmedhep, otmedhep2, otmedhep3, otmedhep4, outcom01, outcom01_i, outcom02, outcom02_i, outcom03, outcom03_i, outcom04, outcom04_i, outcom05, outcom05_i, outcom06, outcom06_i, outcom07, outcom07_i, outcom08, outcom08_i, outcom09, outcom09_i, outcom10, outcom10_i, outcom11, outcom11_i, outcom12, outcom12_i, outcom13, outcom13_i, outcom14, outcom14_i, outcom15, outcom15_i, outcom16, outcom16_i, outcom17, outcom17_i, outcom18, outcom18_i, outcom19, outcom19_i, ovacyst, ovarect, ovulate, ovulate_i, ovuprob, p12mocon, p1ycurrp, p1ycurrp10, p1ycurrp11, p1ycurrp12, p1ycurrp13, p1ycurrp14, p1ycurrp15, p1ycurrp16, p1ycurrp17, p1ycurrp18, p1ycurrp19, p1ycurrp2, p1ycurrp20, p1ycurrp3, p1ycurrp4, p1ycurrp5, p1ycurrp6, p1ycurrp7, p1ycurrp8, p1ycurrp9, p1yeduc, p1yeduc10, p1yeduc11, p1yeduc12, p1yeduc13, p1yeduc14, p1yeduc2, p1yeduc3, p1yeduc4, p1yeduc5, p1yeduc6, p1yeduc7, p1yeduc8, p1yeduc9, p1yhisp, p1yhisp10, p1yhisp11, p1yhisp12, p1yhisp13, p1yhisp14, p1yhisp2, p1yhisp3, p1yhisp4, p1yhisp5, p1yhisp6, p1yhisp7, p1yhisp8, p1yhisp9, p1yhsage, p1yhsage10, p1yhsage11, p1yhsage12, p1yhsage13, p1yhsage14, p1yhsage15, p1yhsage16, p1yhsage17, p1yhsage18, p1yhsage19, p1yhsage2, p1yhsage20, p1yhsage3, p1yhsage4, p1yhsage5, p1yhsage6, p1yhsage7, p1yhsage8, p1yhsage9, p1yrace1, p1yrace11, p1yrace12, p1yrace16, p1yrace2, p1yrace21, p1yrace22, p1yrace26, p1yrace3, p1yrace31, p1yrace36, p1yrace41, p1yrace46, p1yrace51, p1yrace56, p1yrace6, p1yrace61, p1yrace66, p1yrace7, p1yraceb, p1yraceb2, p1yraceb3, p1yraceb5, p1yrage, p1yrage10, p1yrage11, p1yrage12, p1yrage13, p1yrage14, p1yrage15, p1yrage16, p1yrage17, p1yrage18, p1yrage19, p1yrage2, p1yrage20, p1yrage3, p1yrage4, p1yrage5, p1yrage6, p1yrage7, p1yrage8, p1yrage9, p1yrf, p1yrf10, p1yrf11, p1yrf12, p1yrf13, p1yrf14, p1yrf15, p1yrf16, p1yrf17, p1yrf18, p1yrf19, p1yrf2, p1yrf20, p1yrf3, p1yrf4, p1yrf5, p1yrf6, p1yrf7, p1yrf8, p1yrf9, p1yrn, p1yrn10, p1yrn11, p1yrn12, p1yrn13, p1yrn14, p1yrn2, p1yrn3, p1yrn4, p1yrn5, p1yrn6, p1yrn7, p1yrn8, p1yrn9, pap12, pappelec, papplbc2, parage14, parage14_i, parity, parity_i, parmarr, parts12, parts1yr, parts1yr_i, partum12, patch, paydu, paymster1, paymster2, paymster3, payrster1, payrster11, payrster12, payrster16, payrster17, payrster2, payrster3, payrster6, payrster7, pcurrntx, pcurrntx10, pcurrntx11, pcurrntx12, pcurrntx13, pcurrntx14, pcurrntx15, pcurrntx16, pcurrntx17, pcurrntx18, pcurrntx19, pcurrntx2, pcurrntx20, pcurrntx3, pcurrntx4, pcurrntx5, pcurrntx6, pcurrntx7, pcurrntx8, pcurrntx9, pelvic12, pgtstbc2, pid, pidsympt, pidtreat, pidtreat_i, pidtx, pill, pillr, pillr_i, placcur1, placcur10, placcur11, placcur12, placcur2, placcur3, placcur4, placcur9, placgotf1, placgotf10, placgotf2, placgotf9, placopmn, plcfemop, plcfemop2, plcfemop3, plcfemop4, plchiv, plcoper1, pledge, posiblmn, posiblpg, poverty, poverty_i, preghiv, pregnono, pregnowq, pregnum, pregnum_i, prenat12, prevcohb, prevhusb, prgtst12, prgvisit, probwant, pst4wksx, pstrstat, psurgstr, pswkcond1, pswkcond2, ptsb4mar, ptsb4mar_hi, ptsb4mar_lo, pubassis, pubassis_i, pubasst, pubastyp1, pwant, r_stclin, race, race_i, racecx1, racecx2, racehx1, racehx11, racehx16, racehx17, racehx2, racehx21, racehx3, racehx4, racehx6, racehx7, rcurpreg, rcurpreg_i, rdormres, reactslf, rearnty, reasdiff1, reasdiff2, reasdiff3, reasdiff4, reasdiff5, reasdiss101, reasdiss102, reasdiss103, reasdiss104, reasdiss105, reasdiss106, reasdiss107, reasdiss108, reasdiss109, reasdiss110, reasdiss201, reasdiss202, reasdiss203, reasdiss204, reasdiss205, reasdiss206, reasdiss207, reasdiss208, reasdiss209, reasdiss210, reasdiss211, reasdiss212, reasdiss213, reasdiss214, reasdiss301, reasdiss302, reasdiss303, reasdiss304, reasdiss305, reasdiss401, reasimpp, reasimpr, reasnono1, reasnono2, reasnono3, regcar12, regcar13, regcar14, regcar15, regcar16, regcar17, regcar18, regcar19, regcar20, regcar21, regcar22, regcar23, regcar24, regcar25, relcurr, reldlife, religion, religion_i, relothkd, relothkd10, relothkd11, relothkd12, relothkd13, relothkd14, relothkd15, relothkd16, relothkd17, relothkd2, relothkd3, relothkd4, relothkd5, relothkd6, relothkd7, relothkd8, relothkd9, relraisd, retire, retrovir, revstubl, revsvasx, rftptx, rhadall, rhadall2, rhadall3, rhadall4, rhadallm, rhadsex, rhythm, rmarital, rmarital_i, rmarout01, rmarout01_i, rmarout02, rmarout02_i, rmarout03, rmarout03_i, rmarout04, rmarout04_i, rmarout05, rmarout05_i, rmarout06, rmarout06_i, rmarout07, rmarout07_i, rmarout08, rmarout08_i, rmarout09, rmarout09_i, rmarout10, rmarout10_i, rmarout11, rmarout11_i, rmarout12, rmarout12_i, rmarout13, rmarout13_i, rmarout14, rmarout14_i, rmarout15, rmarout15_i, rmarout16, rmarout16_i, rmarout17, rmarout17_i, rmarout18, rmarout18_i, rmarout19, rmarout19_i, rnumjob, roral, roscnt, rostscrn, rpayjob, rscreenhisp, rscreenrace, rscrinf, rstrstat, rsurgstr, rwant, rwantrev, rwantrvt, rwrkst, sameadd, sameallyear10, sameallyear11, sameallyear12, sameallyear14, sameallyear15, sameallyear16, sameallyear17, sameallyear18, sameallyear19, sameallyear2, sameallyear20, sameallyear21, sameallyear22, sameallyear23, sameallyear24, sameallyear26, sameallyear27, sameallyear28, sameallyear29, sameallyear3, sameallyear30, sameallyear31, sameallyear32, sameallyear33, sameallyear34, sameallyear35, sameallyear36, sameallyear38, sameallyear39, sameallyear4, sameallyear40, sameallyear41, sameallyear42, sameallyear43, sameallyear44, sameallyear45, sameallyear46, sameallyear47, sameallyear48, sameallyear5, sameallyear50, sameallyear51, sameallyear6, sameallyear7, sameallyear8, sameallyear9, sameman, samesex, screentime, secu_r, sedbc, sedbcg, sedbcsx, sedno, sednog, sednosx, seekadpt, seekwho1, seekwho2, selfinc, sest, sex1age, sex1age_i, sex1for, sex1for_i, sex1mthd1, sex1mthd1_i, sex1mthd2, sex1mthd2_i, sex1mthd3, sex1mthd3_i, sex1mthd4, sex1mthd4_i, sex3mo, sex3mo_i, sexafmen, sexever, sexever_i, sexmar, sexmar_i, sexonce, sexonce_i, sexothkd, sexothkd10, sexothkd11, sexothkd12, sexothkd13, sexothkd14, sexothkd15, sexothkd16, sexothkd17, sexothkd2, sexothkd3, sexothkd4, sexothkd5, sexothkd6, sexothkd7, sexothkd8, sexothkd9, sexp3mo, sexp3mo_i, simseq, simseq10, simseq11, simseq12, simseq13, simseq14, simseq15, simseq16, simseq17, simseq18, simseq19, simseq2, simseq20, simseq21, simseq22, simseq23, simseq24, simseq25, simseq26, simseq27, simseq28, simseq29, simseq3, simseq30, simseq31, simseq32, simseq33, simseq34, simseq35, simseq36, simseq37, simseq38, simseq39, simseq4, simseq40, simseq41, simseq42, simseq43, simseq44, simseq45, simseq46, simseq47, simseq48, simseq49, simseq5, simseq50, simseq51, simseq6, simseq7, simseq8, simseq9, slscsrv, socsec, sourcem1, sourcem1_i, sourcem2, sourcem2_i, sourcem3, sourcem3_i, sourcem4, sourcem4_i, spearnty, spftptx, splstwk1, splstwk2, splstwk3, splstwk4, splstwk5, splstwk6, spnumjob, sppayjob, spwrkst, ssi, staytog, stclsame, stcns12, stdtscon, stdtst12, stilfpsx, stilhere, stilhere10, stilhere11, stilhere12, stilhere13, stilhere14, stilhere15, stilhere16, stilhere17, stilhere2, stilhere3, stilhere4, stilhere5, stilhere6, stilhere7, stilhere8, stilhere9, stregcar, strloper, strloper_i, supporch, supporch2, supporch3, supporch4, supporcp, supposit, sureint, sxmtonce, sxok16, sxok18, talkall, talkdoct, talkpar1, talkpar2, talkpar3, talkpar4, talkpar5, tempsafe, timesmar, tmaftin, todayspg, toincwmy, totinc, totincr, totincr_i, totplacd, tryadopt, tryadopt2, tryadopt3, tryadopt4, tryadopt5, tryadopt6, tryadopt7, tryeithr, tryeithr10, tryeithr11, tryeithr12, tryeithr13, tryeithr14, tryeithr15, tryeithr16, tryeithr17, tryeithr2, tryeithr3, tryeithr4, tryeithr5, tryeithr6, tryeithr7, tryeithr8, tryeithr9, trylong, trylong2, tubes, tubes_i, tubs, turndown, typag12m, typag13m, typage2m, typage5m, typallmc, typallmc2, typallmc3, typallmc4, typallmc5, typallpg, typallpg2, typallpg3, typallpg4, typallpg5, typallpg6, typdisbm, typdisbn, typdisbs, typepill2, typesexf, typesexm, typnum1m, typnum2m, typracbk, typracot, typracwh, uf, unemp, unit_trylong, usefrsts, usefstp, usefstp2, usefstp3, usefstsx, uselstp, uselstp2, uselstp3, vaca, vasany, vasect, vasectmy, vry1stag, vry1stag_i, vry1stsx, vry1stsx_i, wage, wantp01, wantp01_i, wantp02, wantp02_i, wantp03, wantp03_i, wantp04, wantp04_i, wantp05, wantp05_i, wantp06, wantp06_i, wantp07, wantp07_i, wantp08, wantp08_i, wantp09, wantp09_i, wantp10, wantp10_i, wantp11, wantp11_i, wantp12, wantp12_i, wantp13, wantp13_i, wantp14, wantp14_i, wantp15, wantp15_i, wantp16, wantp16_i, wantp17, wantp17_i, wantp18, wantp18_i, wantp19, wantp19_i, wantp5, wantp5_i, wantrp01, wantrp01_i, wantrp02, wantrp02_i, wantrp03, wantrp03_i, wantrp04, wantrp04_i, wantrp05, wantrp05_i, wantrp06, wantrp06_i, wantrp07, wantrp07_i, wantrp08, wantrp08_i, wantrp09, wantrp09_i, wantrp10, wantrp10_i, wantrp11, wantrp11_i, wantrp12, wantrp12_i, wantrp13, wantrp13_i, wantrp14, wantrp14_i, wantrp15, wantrp15_i, wantrp16, wantrp16_i, wantrp17, wantrp17_i, wantrp18, wantrp18_i, wantrp19, wantrp19_i, warm, whartin, whatopsm, which1st, wholast, whosnc1y, whotest, whrchkds1, whrchkds10, whrchkds13, whrchkds14, whrchkds2, whrchkds3, whrchkds5, whrchkds6, whrchkds7, whrchkds9, whrcpkds1, whrcpkds2, whtooprc, wic, widrawal, willmarr, withimop, wocondom, womrasdu, wrk12mos, wthparnw, wynotuse, ynosex, yquittry, yrstrus, yusepill1, yusepill2, yusepill3, yusepill4, yusepill5, "
     ]
    }
   ],
   "source": [
    "%matplotlib inline\n",
    "\n",
    "import sys\n",
    "import chap01soln\n",
    "import nsfg\n",
    "\n",
    "resp = chap01soln.ReadFemResp()\n",
    "nsfg_preg = nsfg.ReadFemPreg()\n",
    "\n",
    "for el in sorted(resp.columns):\n",
    "    sys.stdout.write(el+', ')"
   ]
  },
  {
   "cell_type": "code",
   "execution_count": 3,
   "metadata": {
    "collapsed": false
   },
   "outputs": [
    {
     "name": "stdout",
     "output_type": "stream",
     "text": [
      "adj_mod_basewgt, ageatend, agecon, agecon_i, agepreg, agepreg_i, ageqtnur, ageqtnur2, ageqtnur3, ageqtnur_n, ageqtnur_n2, ageqtnur_n3, ageqtnur_p, ageqtnur_p2, ageqtnur_p3, ager, ager_i, agescrn, alivenow, alivenow2, alivenow3, anynurse, anynurse2, anynurse3, anyusint, babysex, babysex2, babysex3, basewgt, bfeedwks, bfeedwks_i, bgnprena, birthord, birthord_i, birthplc, birthwgt_lb, birthwgt_lb2, birthwgt_lb3, birthwgt_oz, birthwgt_oz2, birthwgt_oz3, bpa_bdscheck1, bpa_bdscheck2, bpa_bdscheck3, brnout, caseid, cmbabdob, cmbirth, cmfstprg, cmintfin, cmintfincr, cmintfinop, cmintstr, cmintstrcr, cmintstrop, cmintvw, cmkidied, cmkidied2, cmkidied3, cmkidlft, cmkidlft2, cmkidlft3, cmlastlb, cmlstprg, cmotpreg, cmprgbeg, cmprgend, cnfrmno, cohpbeg, cohpend, datecon, datecon_i, datend, datend_i, didwork, dk1gest, dk2gest, dk3gest, educat, educat_i, evuseint, fedsolid, fedsolid2, fedsolid3, feelinpg, finalwgt, flgdkmo1, fmarcon5, fmarcon5_i, fmarital, fmarital_i, fmarout5, fmarout5_i, frsteatd, frsteatd2, frsteatd3, frsteatd_n, frsteatd_n2, frsteatd_n3, frsteatd_p, frsteatd_p2, frsteatd_p3, gestasun_m, gestasun_w, getprena, hieduc, hieduc_i, hispanic, hispanic_i, hisprace, hisprace_i, howpreg_n, howpreg_p, hpageend, hpagelb, hpwnold, insuranc, insuranc_i, kidage, knewpreg, laborfor, laborfor_i, lastage, lastage2, lastage3, lbw1, lbw1_i, learnprg, learnprg_i, legagree, legagree2, legagree3, livehere, livehere2, livehere3, lobthwgt, lobthwgt2, lobthwgt3, lpnctri, ltrimest, matchfound, matchfound2, matchfound3, maternlv, maternlv_i, matleave, matweeks, metro, metro_i, moscurrp, mosgest, multbrth, nbrnaliv, nowprgdk, npostsmk, oldwantp, oldwantp_i, oldwantr, oldwantr_i, outcome, outcome_i, parenend, parenend2, parenend3, parity, parity_i, paybirth1, paybirth2, paybirth3, paydeliv, paydeliv_i, pmarpreg, pmarpreg_i, pncarewk, pncarewk_i, pnctrim, postsmks, poverty, poverty_i, pregend1, pregend2, pregnum, pregnum_i, pregordr, prglngth, prglngth_i, prgoutcome, priorsmk, probbabe, pubassis, pubassis_i, quitnurs, quitnurs2, quitnurs3, race, race_i, rcurpreg, rcurpreg_i, religion, religion_i, resnouse, rmarital, rmarital_i, rmarout6, rmarout6_i, secu_p, sest, stopduse, tellfath, timingok, timokhp, toosoon_n, toosoon_p, totalwgt_lb, trimestr, tryscale, wantbld2, wantbold, wantpart, wantpart_i, wantresp, wantresp_i, wantscal, weeksdk, whatmeth01, whatmeth02, whatmeth03, whatmeth04, whentell, wherenow, wherenow2, wherenow3, whynouse1, whynouse2, whynouse3, whyprg1, whyprg2, whystopd, wksgest, workborn, workpreg, wthpart1, wthpart2, yrstrus, "
     ]
    }
   ],
   "source": [
    "for el in sorted(nsfg_preg.columns):\n",
    "    sys.stdout.write(el+', ')"
   ]
  },
  {
   "cell_type": "markdown",
   "metadata": {},
   "source": [
    "Make a histogram of <tt>totincr</tt> the total income for the respondent's family.  To interpret the codes see the [codebook](http://www.icpsr.umich.edu/nsfg6/Controller?displayPage=labelDetails&fileCode=MALE&section=R&subSec=7958&srtLabel=609776)."
   ]
  },
  {
   "cell_type": "code",
   "execution_count": 4,
   "metadata": {
    "collapsed": false
   },
   "outputs": [
    {
     "name": "stdout",
     "output_type": "stream",
     "text": [
      "<class 'thinkstats2.Hist'>\n"
     ]
    }
   ],
   "source": [
    "import thinkstats2\n",
    "hist = thinkstats2.Hist(resp.totincr)\n",
    "print type(hist)"
   ]
  },
  {
   "cell_type": "markdown",
   "metadata": {},
   "source": [
    "Display the histogram."
   ]
  },
  {
   "cell_type": "code",
   "execution_count": 5,
   "metadata": {
    "collapsed": false
   },
   "outputs": [
    {
     "data": {
      "image/png": "[encoded data removed]",
      "text/plain": [
       "<matplotlib.figure.Figure at 0x7f998c128b50>"
      ]
     },
     "metadata": {},
     "output_type": "display_data"
    },
    {
     "data": {
      "text/plain": [
       "<matplotlib.figure.Figure at 0x7f99675c42d0>"
      ]
     },
     "metadata": {},
     "output_type": "display_data"
    }
   ],
   "source": [
    "import thinkplot\n",
    "thinkplot.Hist(hist, label='totincr')\n",
    "thinkplot.Show()"
   ]
  },
  {
   "cell_type": "markdown",
   "metadata": {},
   "source": [
    "Make a histogram of <tt>age_r</tt>, the respondent's age at the time of interview."
   ]
  },
  {
   "cell_type": "code",
   "execution_count": 6,
   "metadata": {
    "collapsed": false
   },
   "outputs": [
    {
     "data": {
      "image/png": "[encoded data removed]",
      "text/plain": [
       "<matplotlib.figure.Figure at 0x7f9967f9d1d0>"
      ]
     },
     "metadata": {},
     "output_type": "display_data"
    },
    {
     "data": {
      "text/plain": [
       "<matplotlib.figure.Figure at 0x7f9967f6bc10>"
      ]
     },
     "metadata": {},
     "output_type": "display_data"
    }
   ],
   "source": [
    "hist = thinkstats2.Hist(resp.age_r)\n",
    "thinkplot.Hist(hist, label='age_r')\n",
    "thinkplot.Show()"
   ]
  },
  {
   "cell_type": "markdown",
   "metadata": {},
   "source": [
    "Make a histogram of <tt>numfmhh</tt>, the number of people in the respondent's household."
   ]
  },
  {
   "cell_type": "code",
   "execution_count": 7,
   "metadata": {
    "collapsed": false
   },
   "outputs": [
    {
     "data": {
      "image/png": "[encoded data removed]",
      "text/plain": [
       "<matplotlib.figure.Figure at 0x7f9967866710>"
      ]
     },
     "metadata": {},
     "output_type": "display_data"
    },
    {
     "data": {
      "text/plain": [
       "<matplotlib.figure.Figure at 0x7f9967866650>"
      ]
     },
     "metadata": {},
     "output_type": "display_data"
    }
   ],
   "source": [
    "hist_numfmhh = thinkstats2.Hist(resp.numfmhh)\n",
    "thinkplot.Hist(hist_numfmhh, label='numfmhh')\n",
    "thinkplot.Show()"
   ]
  },
  {
   "cell_type": "markdown",
   "metadata": {},
   "source": [
    "Make a histogram of <tt>parity</tt>, the number children the respondent has borne.  How would you describe this distribution?"
   ]
  },
  {
   "cell_type": "code",
   "execution_count": 8,
   "metadata": {
    "collapsed": false
   },
   "outputs": [
    {
     "data": {
      "image/png": "[encoded data removed]",
      "text/plain": [
       "<matplotlib.figure.Figure at 0x7f99672fdf10>"
      ]
     },
     "metadata": {},
     "output_type": "display_data"
    },
    {
     "data": {
      "text/plain": [
       "<matplotlib.figure.Figure at 0x7f99672fdfd0>"
      ]
     },
     "metadata": {},
     "output_type": "display_data"
    }
   ],
   "source": [
    "hist_parity = thinkstats2.Hist(resp.parity)\n",
    "thinkplot.Hist(hist_parity, label='parity')\n",
    "thinkplot.Show()"
   ]
  },
  {
   "cell_type": "markdown",
   "metadata": {},
   "source": [
    "Use Hist.Largest to find the largest values of <tt>parity</tt>."
   ]
  },
  {
   "cell_type": "code",
   "execution_count": 9,
   "metadata": {
    "collapsed": false
   },
   "outputs": [
    {
     "name": "stdout",
     "output_type": "stream",
     "text": [
      "Parity\tNumber of Respondents\n",
      "22 \t1\n",
      "16 \t1\n",
      "10 \t3\n",
      "9 \t2\n",
      "8 \t8\n"
     ]
    }
   ],
   "source": [
    "def print_parities(h_parity, top_number):\n",
    "    print 'Parity\\tNumber of Respondents'\n",
    "    for i,j in h_parity.Largest(top_number):\n",
    "        print i, '\\t', j\n",
    "\n",
    "print_parities(hist_parity, 5)"
   ]
  },
  {
   "cell_type": "markdown",
   "metadata": {},
   "source": [
    "Use <tt>totincr</tt> to select the respondents with the highest income.  Compute the distribution of <tt>parity</tt> for just the high income respondents."
   ]
  },
  {
   "cell_type": "code",
   "execution_count": 17,
   "metadata": {
    "collapsed": false
   },
   "outputs": [
    {
     "data": {
      "image/png": "[encoded data removed]",
      "text/plain": [
       "<matplotlib.figure.Figure at 0x7f9967a97890>"
      ]
     },
     "metadata": {},
     "output_type": "display_data"
    },
    {
     "data": {
      "text/plain": [
       "<matplotlib.figure.Figure at 0x7f9966e98890>"
      ]
     },
     "metadata": {},
     "output_type": "display_data"
    }
   ],
   "source": [
    "highest_income_parity = resp['parity'][ resp['totincr'] == resp['totincr'].max() ]\n",
    "hist_totincr = thinkstats2.Hist(highest_income_parity)\n",
    "thinkplot.Hist(hist_totincr)\n",
    "thinkplot.Config(title='Number of Babies Birthed from Highest Income Respondents')\n",
    "thinkplot.Show(xlabel='Number of Babies Birthed', \\\n",
    "               ylabel='Number of Respondents')"
   ]
  },
  {
   "cell_type": "markdown",
   "metadata": {},
   "source": [
    "Find the largest parities for high income respondents."
   ]
  },
  {
   "cell_type": "code",
   "execution_count": 11,
   "metadata": {
    "collapsed": false
   },
   "outputs": [
    {
     "name": "stdout",
     "output_type": "stream",
     "text": [
      "Parity\tNumber of Respondents\n",
      "8 \t1\n",
      "7 \t1\n",
      "5 \t5\n",
      "4 \t19\n",
      "3 \t123\n"
     ]
    }
   ],
   "source": [
    "print_parities(hist_totincr, 5)"
   ]
  },
  {
   "cell_type": "markdown",
   "metadata": {},
   "source": [
    "Compare the mean <tt>parity</tt> for high income respondents and others."
   ]
  },
  {
   "cell_type": "code",
   "execution_count": 12,
   "metadata": {
    "collapsed": false
   },
   "outputs": [
    {
     "name": "stdout",
     "output_type": "stream",
     "text": [
      "High income parity mean:\t1.07586206897\n",
      "Others income parity mean:\t1.24957581367\n",
      "Cohen Effect Size:\t\t0.125118553147 standard deviations\n"
     ]
    }
   ],
   "source": [
    "others_income_parity = resp['parity'][ resp['totincr'] != resp['totincr'].max() ]\n",
    "print 'High income parity mean:\\t', highest_income_parity.mean()\n",
    "print 'Others income parity mean:\\t', others_income_parity.mean()\n",
    "\n",
    "import math\n",
    "\n",
    "def CohenEffectSize(group1, group2):\n",
    "    diff = abs(group1.mean() - group2.mean())\n",
    "    \n",
    "    var1 = group1.var()\n",
    "    var2 = group2.var()\n",
    "    n1, n2 = len(group1), len(group2)\n",
    "    \n",
    "    pooled_var = (n1*var1 + n2*var2) / (n1+n2)\n",
    "    d = diff / math.sqrt(pooled_var)\n",
    "    return d\n",
    "\n",
    "print 'Cohen Effect Size:\\t\\t', CohenEffectSize(highest_income_parity, others_income_parity), 'standard deviations'"
   ]
  },
  {
   "cell_type": "markdown",
   "metadata": {},
   "source": [
    "Investigate any other variables that look interesting."
   ]
  },
  {
   "cell_type": "markdown",
   "metadata": {},
   "source": [
    "I will investiage the relationship between the number of weeks of breast feeding and the weight of the baby."
   ]
  },
  {
   "cell_type": "code",
   "execution_count": 29,
   "metadata": {
    "collapsed": false,
    "scrolled": true
   },
   "outputs": [
    {
     "name": "stdout",
     "output_type": "stream",
     "text": [
      "1 standard deviation greater than the mean weight: 8.67384399146\n"
     ]
    },
    {
     "data": {
      "image/png": "[encoded data removed]",
      "text/plain": [
       "<matplotlib.figure.Figure at 0x7f9967d67c10>"
      ]
     },
     "metadata": {},
     "output_type": "display_data"
    },
    {
     "name": "stdout",
     "output_type": "stream",
     "text": [
      "28.9655722754\n",
      "31.9939301973\n"
     ]
    },
    {
     "data": {
      "text/plain": [
       "<matplotlib.figure.Figure at 0x7f99676d0f10>"
      ]
     },
     "metadata": {},
     "output_type": "display_data"
    }
   ],
   "source": [
    "import numpy as np\n",
    "\n",
    "bfeedwks = nsfg_preg['bfeedwks'][ (nsfg_preg['bfeedwks'] <= 993) ]\n",
    "higher_wgts = nsfg_preg['totalwgt_lb'].mean() + np.std(nsfg_preg['totalwgt_lb'])\n",
    "print \"1 standard deviation greater than the mean weight:\", higher_wgts\n",
    "\n",
    "hist_bfeedwks = thinkstats2.Hist(bfeedwks)\n",
    "thinkplot.Hist(hist_bfeedwks)\n",
    "#thinkplot.Config(title='Weeks of Breast Feeding')\n",
    "thinkplot.Show(xlabel='Weeks of Breastfeeding', \\\n",
    "               ylabel='Number of Babies')"
   ]
  },
  {
   "cell_type": "code",
   "execution_count": 31,
   "metadata": {
    "collapsed": false
   },
   "outputs": [
    {
     "data": {
      "image/png": "[encoded data removed]",
      "text/plain": [
       "<matplotlib.figure.Figure at 0x7f9966e20850>"
      ]
     },
     "metadata": {},
     "output_type": "display_data"
    },
    {
     "data": {
      "text/plain": [
       "<matplotlib.figure.Figure at 0x7f9966e20450>"
      ]
     },
     "metadata": {},
     "output_type": "display_data"
    }
   ],
   "source": [
    "bfeedwks_above = nsfg_preg['bfeedwks'][ (nsfg_preg['totalwgt_lb'] > higher_wgts) & (nsfg_preg['bfeedwks'] <= 993) ]\n",
    "\n",
    "hist_bfeedwks_above = thinkstats2.Hist(bfeedwks_above)\n",
    "thinkplot.Hist(hist_bfeedwks_above)\n",
    "thinkplot.Config(title='Weeks of Breast Feeding for Heavier Babies')\n",
    "thinkplot.Show(xlabel='Weeks of Breastfeeding', \\\n",
    "               ylabel='Number of Babies')"
   ]
  },
  {
   "cell_type": "code",
   "execution_count": 44,
   "metadata": {
    "collapsed": false
   },
   "outputs": [
    {
     "name": "stdout",
     "output_type": "stream",
     "text": [
      "Mean weeks for babies less than or equal to 8.67 lbs: 28.32\n",
      "Mean weeks for babies greater than 8.67 lbs: 31.99\n",
      "Cohen Effect Size: 0.127 standard deviations\n"
     ]
    }
   ],
   "source": [
    "bfeedwks_below = nsfg_preg['bfeedwks'][ (nsfg_preg['totalwgt_lb'] <= higher_wgts) & (nsfg_preg['bfeedwks'] <= 993) ]\n",
    "print 'Mean weeks for babies less than or equal to %.2f lbs: %.2f' %(higher_wgts, bfeedwks_below.mean())\n",
    "print 'Mean weeks for babies greater than %.2f lbs: %.2f' %(higher_wgts, bfeedwks_above.mean())\n",
    "print 'Cohen Effect Size: %.3f standard deviations' \\\n",
    "        %CohenEffectSize(bfeedwks_above, bfeedwks_below)"
   ]
  },
  {
   "cell_type": "markdown",
   "metadata": {},
   "source": [
    "It seems that there is a non-negligible, but still pretty small, Cohen effect size between a baby's weight and how long it will be breast fed. This amounts to more than 3 weeks more breast feeding on average."
   ]
  },
  {
   "cell_type": "markdown",
   "metadata": {
    "collapsed": false
   },
   "source": [
    "### Exercise 4\n",
    "\n",
    "Using the variable totalwgt_lb, investigate whether first babies are lighter or heavier than others. Compute Cohen’s d to quantify the difference between the groups. How does it compare to the difference in pregnancy length? "
   ]
  },
  {
   "cell_type": "code",
   "execution_count": 69,
   "metadata": {
    "collapsed": false
   },
   "outputs": [
    {
     "name": "stdout",
     "output_type": "stream",
     "text": [
      "Cohen effect size for total weights:\t0.0889 standard deviations\n",
      "Cohen effect size for pregnancy length:\t0.0966 standard deviations\n"
     ]
    }
   ],
   "source": [
    "firsts = nsfg_preg['birthord'] == 1\n",
    "others = nsfg_preg['birthord'] != 1\n",
    "\n",
    "firsts_totalwgts = nsfg_preg['totalwgt_lb'][firsts]\n",
    "others_totalwgts = nsfg_preg['totalwgt_lb'][others]\n",
    "\n",
    "firsts_prglngths = nsfg_preg['prglngth'][firsts & (nsfg_preg['prglngth'] > 27) & (nsfg_preg['prglngth'] < 46)]\n",
    "others_prglngths = nsfg_preg['prglngth'][others & (nsfg_preg['prglngth'] > 27) & (nsfg_preg['prglngth'] < 46)]\n",
    "\n",
    "print 'Cohen effect size for total weight:\\t%.4f standard deviations' \\\n",
    "        %CohenEffectSize(firsts_totalwgts, others_totalwgts)\n",
    "print 'Cohen effect size for pregnancy length:\\t%.4f standard deviations' \\\n",
    "        %CohenEffectSize(firsts_prglngths, others_prglngths)"
   ]
  },
  {
   "cell_type": "markdown",
   "metadata": {},
   "source": [
    "Cohen's d quantity for the baby's weight and the pregnancy length are around the same value, which is incredibly small. This means that first-borns do not generally have a substantially different weight."
   ]
  }
 ],
 "metadata": {
  "kernelspec": {
   "display_name": "Python 2",
   "language": "python2",
   "name": "python2"
  },
  "language_info": {
   "codemirror_mode": {
    "name": "ipython",
    "version": 2
   },
   "file_extension": ".py",
   "mimetype": "text/x-python",
   "name": "python",
   "nbconvert_exporter": "python",
   "pygments_lexer": "ipython2",
   "version": "2.7.11"
  }
 },
 "nbformat": 4,
 "nbformat_minor": 0
}
